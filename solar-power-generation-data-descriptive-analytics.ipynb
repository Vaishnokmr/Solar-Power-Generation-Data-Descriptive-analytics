{
 "cells": [
  {
   "cell_type": "code",
   "execution_count": 1,
   "id": "polar-breathing",
   "metadata": {
    "_cell_guid": "b1076dfc-b9ad-4769-8c92-a6c4dae69d19",
    "_uuid": "8f2839f25d086af736a60e9eeb907d3b93b6e0e5",
    "execution": {
     "iopub.execute_input": "2021-07-31T10:40:38.003209Z",
     "iopub.status.busy": "2021-07-31T10:40:37.999011Z",
     "iopub.status.idle": "2021-07-31T10:40:38.019232Z",
     "shell.execute_reply": "2021-07-31T10:40:38.019802Z",
     "shell.execute_reply.started": "2021-07-31T07:53:03.869427Z"
    },
    "papermill": {
     "duration": 0.056305,
     "end_time": "2021-07-31T10:40:38.020102",
     "exception": false,
     "start_time": "2021-07-31T10:40:37.963797",
     "status": "completed"
    },
    "tags": []
   },
   "outputs": [
    {
     "name": "stdout",
     "output_type": "stream",
     "text": [
      "/kaggle/input/solar-power-generation-data/Plant_2_Generation_Data.csv\n",
      "/kaggle/input/solar-power-generation-data/Plant_2_Weather_Sensor_Data.csv\n",
      "/kaggle/input/solar-power-generation-data/Plant_1_Weather_Sensor_Data.csv\n",
      "/kaggle/input/solar-power-generation-data/Plant_1_Generation_Data.csv\n"
     ]
    }
   ],
   "source": [
    "# This Python 3 environment comes with many helpful analytics libraries installed\n",
    "# It is defined by the kaggle/python Docker image: https://github.com/kaggle/docker-python\n",
    "# For example, here's several helpful packages to load\n",
    "\n",
    "import numpy as np # linear algebra\n",
    "import pandas as pd # data processing, CSV file I/O (e.g. pd.read_csv)\n",
    "\n",
    "# Input data files are available in the read-only \"../input/\" directory\n",
    "# For example, running this (by clicking run or pressing Shift+Enter) will list all files under the input directory\n",
    "\n",
    "import os\n",
    "for dirname, _, filenames in os.walk('/kaggle/input'):\n",
    "    for filename in filenames:\n",
    "        print(os.path.join(dirname, filename))\n",
    "\n",
    "# You can write up to 20GB to the current directory (/kaggle/working/) that gets preserved as output when you create a version using \"Save & Run All\" \n",
    "# You can also write temporary files to /kaggle/temp/, but they won't be saved outside of the current session"
   ]
  },
  {
   "cell_type": "code",
   "execution_count": 2,
   "id": "vanilla-proof",
   "metadata": {
    "execution": {
     "iopub.execute_input": "2021-07-31T10:40:38.075668Z",
     "iopub.status.busy": "2021-07-31T10:40:38.074887Z",
     "iopub.status.idle": "2021-07-31T10:40:40.392209Z",
     "shell.execute_reply": "2021-07-31T10:40:40.391628Z",
     "shell.execute_reply.started": "2021-07-31T08:03:49.113979Z"
    },
    "papermill": {
     "duration": 2.347005,
     "end_time": "2021-07-31T10:40:40.392361",
     "exception": false,
     "start_time": "2021-07-31T10:40:38.045356",
     "status": "completed"
    },
    "tags": []
   },
   "outputs": [],
   "source": [
    "import pandas as pd\n",
    "import numpy as np \n",
    "import matplotlib.pyplot as plt \n",
    "import seaborn as sns \n",
    "import plotly.express as px\n",
    "import datetime as dt\n",
    "import plotly.express as px\n"
   ]
  },
  {
   "cell_type": "code",
   "execution_count": 3,
   "id": "received-bikini",
   "metadata": {
    "execution": {
     "iopub.execute_input": "2021-07-31T10:40:40.445433Z",
     "iopub.status.busy": "2021-07-31T10:40:40.444735Z",
     "iopub.status.idle": "2021-07-31T10:40:40.765929Z",
     "shell.execute_reply": "2021-07-31T10:40:40.765282Z",
     "shell.execute_reply.started": "2021-07-31T10:21:43.066887Z"
    },
    "papermill": {
     "duration": 0.348785,
     "end_time": "2021-07-31T10:40:40.766086",
     "exception": false,
     "start_time": "2021-07-31T10:40:40.417301",
     "status": "completed"
    },
    "tags": []
   },
   "outputs": [],
   "source": [
    "plant1_gen=pd.read_csv('/kaggle/input/solar-power-generation-data/Plant_1_Generation_Data.csv')\n",
    "plant2_gen=pd.read_csv('/kaggle/input/solar-power-generation-data/Plant_2_Generation_Data.csv')\n",
    "plant1_sen=pd.read_csv('/kaggle/input/solar-power-generation-data/Plant_1_Weather_Sensor_Data.csv')\n",
    "plant2_sen=pd.read_csv('/kaggle/input/solar-power-generation-data/Plant_2_Weather_Sensor_Data.csv')"
   ]
  },
  {
   "cell_type": "code",
   "execution_count": 4,
   "id": "fifteen-microphone",
   "metadata": {
    "execution": {
     "iopub.execute_input": "2021-07-31T10:40:40.825199Z",
     "iopub.status.busy": "2021-07-31T10:40:40.824272Z",
     "iopub.status.idle": "2021-07-31T10:40:40.830662Z",
     "shell.execute_reply": "2021-07-31T10:40:40.829897Z",
     "shell.execute_reply.started": "2021-07-31T08:19:57.778031Z"
    },
    "papermill": {
     "duration": 0.039235,
     "end_time": "2021-07-31T10:40:40.830862",
     "exception": false,
     "start_time": "2021-07-31T10:40:40.791627",
     "status": "completed"
    },
    "tags": []
   },
   "outputs": [
    {
     "name": "stdout",
     "output_type": "stream",
     "text": [
      "Features Columns of plant1_gen :  Index(['DATE_TIME', 'PLANT_ID', 'SOURCE_KEY', 'DC_POWER', 'AC_POWER',\n",
      "       'DAILY_YIELD', 'TOTAL_YIELD'],\n",
      "      dtype='object')\n",
      "********************************************************************************\n",
      "Features Columns of plant2_gen :  Index(['DATE_TIME', 'PLANT_ID', 'SOURCE_KEY', 'DC_POWER', 'AC_POWER',\n",
      "       'DAILY_YIELD', 'TOTAL_YIELD'],\n",
      "      dtype='object')\n",
      "*******************************************************************************\n",
      "Features Columns of plant1_sen :  Index(['DATE_TIME', 'PLANT_ID', 'SOURCE_KEY', 'AMBIENT_TEMPERATURE',\n",
      "       'MODULE_TEMPERATURE', 'IRRADIATION'],\n",
      "      dtype='object')\n",
      "********************************************************************************\n",
      "Features Columns of plant2_sen :  Index(['DATE_TIME', 'PLANT_ID', 'SOURCE_KEY', 'AMBIENT_TEMPERATURE',\n",
      "       'MODULE_TEMPERATURE', 'IRRADIATION'],\n",
      "      dtype='object')\n"
     ]
    }
   ],
   "source": [
    "print(f\"Features Columns of plant1_gen : \",plant1_gen.columns)\n",
    "print(\"********************************************************************************\")\n",
    "print(f\"Features Columns of plant2_gen : \",plant2_gen.columns)\n",
    "print(\"*******************************************************************************\")\n",
    "print(f\"Features Columns of plant1_sen : \",plant1_sen.columns)\n",
    "print(\"********************************************************************************\")\n",
    "print(f\"Features Columns of plant2_sen : \",plant2_sen.columns)"
   ]
  },
  {
   "cell_type": "code",
   "execution_count": 5,
   "id": "disabled-aggregate",
   "metadata": {
    "execution": {
     "iopub.execute_input": "2021-07-31T10:40:40.900341Z",
     "iopub.status.busy": "2021-07-31T10:40:40.899616Z",
     "iopub.status.idle": "2021-07-31T10:40:40.950530Z",
     "shell.execute_reply": "2021-07-31T10:40:40.949581Z",
     "shell.execute_reply.started": "2021-07-31T08:18:40.242360Z"
    },
    "papermill": {
     "duration": 0.092772,
     "end_time": "2021-07-31T10:40:40.950709",
     "exception": false,
     "start_time": "2021-07-31T10:40:40.857937",
     "status": "completed"
    },
    "tags": []
   },
   "outputs": [
    {
     "name": "stdout",
     "output_type": "stream",
     "text": [
      "Features Columns of plant1_gen (count) :  DATE_TIME      68778\n",
      "PLANT_ID       68778\n",
      "SOURCE_KEY     68778\n",
      "DC_POWER       68778\n",
      "AC_POWER       68778\n",
      "DAILY_YIELD    68778\n",
      "TOTAL_YIELD    68778\n",
      "dtype: int64\n",
      "********************************************************************************\n",
      "Features Columns of plant2_gen (count):  DATE_TIME      67698\n",
      "PLANT_ID       67698\n",
      "SOURCE_KEY     67698\n",
      "DC_POWER       67698\n",
      "AC_POWER       67698\n",
      "DAILY_YIELD    67698\n",
      "TOTAL_YIELD    67698\n",
      "dtype: int64\n",
      "*******************************************************************************\n",
      "Features Columns of plant1_sen (count):  DATE_TIME              3182\n",
      "PLANT_ID               3182\n",
      "SOURCE_KEY             3182\n",
      "AMBIENT_TEMPERATURE    3182\n",
      "MODULE_TEMPERATURE     3182\n",
      "IRRADIATION            3182\n",
      "dtype: int64\n",
      "********************************************************************************\n",
      "Features Columns of plant2_sen (count):  DATE_TIME              3259\n",
      "PLANT_ID               3259\n",
      "SOURCE_KEY             3259\n",
      "AMBIENT_TEMPERATURE    3259\n",
      "MODULE_TEMPERATURE     3259\n",
      "IRRADIATION            3259\n",
      "dtype: int64\n"
     ]
    }
   ],
   "source": [
    "print(f\"Features Columns of plant1_gen (count) : \",plant1_gen.count())\n",
    "print(\"********************************************************************************\")\n",
    "print(f\"Features Columns of plant2_gen (count): \",plant2_gen.count())\n",
    "print(\"*******************************************************************************\")\n",
    "print(f\"Features Columns of plant1_sen (count): \",plant1_sen.count())\n",
    "print(\"********************************************************************************\")\n",
    "print(f\"Features Columns of plant2_sen (count): \",plant2_sen.count())\n",
    "\n"
   ]
  },
  {
   "cell_type": "code",
   "execution_count": 6,
   "id": "measured-hydrogen",
   "metadata": {
    "execution": {
     "iopub.execute_input": "2021-07-31T10:40:41.016656Z",
     "iopub.status.busy": "2021-07-31T10:40:41.015888Z",
     "iopub.status.idle": "2021-07-31T10:40:41.118955Z",
     "shell.execute_reply": "2021-07-31T10:40:41.119524Z",
     "shell.execute_reply.started": "2021-07-31T08:24:35.114390Z"
    },
    "papermill": {
     "duration": 0.143603,
     "end_time": "2021-07-31T10:40:41.119723",
     "exception": false,
     "start_time": "2021-07-31T10:40:40.976120",
     "status": "completed"
    },
    "tags": []
   },
   "outputs": [
    {
     "name": "stdout",
     "output_type": "stream",
     "text": [
      "Features stats of plant1_gen (stats): \n",
      "        PLANT_ID      DC_POWER      AC_POWER   DAILY_YIELD   TOTAL_YIELD\n",
      "count    68778.0  68778.000000  68778.000000  68778.000000  6.877800e+04\n",
      "mean   4135001.0   3147.426211    307.802752   3295.968737  6.978712e+06\n",
      "std          0.0   4036.457169    394.396439   3145.178309  4.162720e+05\n",
      "min    4135001.0      0.000000      0.000000      0.000000  6.183645e+06\n",
      "25%    4135001.0      0.000000      0.000000      0.000000  6.512003e+06\n",
      "50%    4135001.0    429.000000     41.493750   2658.714286  7.146685e+06\n",
      "75%    4135001.0   6366.964286    623.618750   6274.000000  7.268706e+06\n",
      "max    4135001.0  14471.125000   1410.950000   9163.000000  7.846821e+06\n",
      "********************************************************************************\n",
      "Features stats of plant2_gen (stats): \n",
      "        PLANT_ID      DC_POWER      AC_POWER   DAILY_YIELD   TOTAL_YIELD\n",
      "count    67698.0  67698.000000  67698.000000  67698.000000  6.769800e+04\n",
      "mean   4136001.0    246.701961    241.277825   3294.890295  6.589448e+08\n",
      "std          0.0    370.569597    362.112118   2919.448386  7.296678e+08\n",
      "min    4136001.0      0.000000      0.000000      0.000000  0.000000e+00\n",
      "25%    4136001.0      0.000000      0.000000    272.750000  1.996494e+07\n",
      "50%    4136001.0      0.000000      0.000000   2911.000000  2.826276e+08\n",
      "75%    4136001.0    446.591667    438.215000   5534.000000  1.348495e+09\n",
      "max    4136001.0   1420.933333   1385.420000   9873.000000  2.247916e+09\n",
      "*******************************************************************************\n",
      "Features stats of plant1_sen (stats): \n",
      "        PLANT_ID  AMBIENT_TEMPERATURE  MODULE_TEMPERATURE  IRRADIATION\n",
      "count     3182.0          3182.000000         3182.000000  3182.000000\n",
      "mean   4135001.0            25.531606           31.091015     0.228313\n",
      "std          0.0             3.354856           12.261222     0.300836\n",
      "min    4135001.0            20.398505           18.140415     0.000000\n",
      "25%    4135001.0            22.705182           21.090553     0.000000\n",
      "50%    4135001.0            24.613814           24.618060     0.024653\n",
      "75%    4135001.0            27.920532           41.307840     0.449588\n",
      "max    4135001.0            35.252486           65.545714     1.221652\n",
      "********************************************************************************\n",
      "Features stats of plant2_sen (stats): \n",
      "        PLANT_ID  AMBIENT_TEMPERATURE  MODULE_TEMPERATURE  IRRADIATION\n",
      "count     3259.0          3259.000000         3259.000000  3259.000000\n",
      "mean   4136001.0            28.069400           32.772408     0.232737\n",
      "std          0.0             4.061556           11.344034     0.312693\n",
      "min    4136001.0            20.942385           20.265123     0.000000\n",
      "25%    4136001.0            24.602135           23.716881     0.000000\n",
      "50%    4136001.0            26.981263           27.534606     0.019040\n",
      "75%    4136001.0            31.056757           40.480653     0.438717\n",
      "max    4136001.0            39.181638           66.635953     1.098766\n"
     ]
    }
   ],
   "source": [
    "print(f\"Features stats of plant1_gen (stats): \")\n",
    "print(plant1_gen.describe())\n",
    "print(\"********************************************************************************\")\n",
    "print(f\"Features stats of plant2_gen (stats): \")\n",
    "print(plant2_gen.describe())\n",
    "print(\"*******************************************************************************\")\n",
    "print(f\"Features stats of plant1_sen (stats): \")\n",
    "print(plant1_sen.describe())\n",
    "print(\"********************************************************************************\")\n",
    "print(f\"Features stats of plant2_sen (stats): \")\n",
    "print(plant2_sen.describe())\n",
    "\n"
   ]
  },
  {
   "cell_type": "code",
   "execution_count": 7,
   "id": "soviet-entrepreneur",
   "metadata": {
    "execution": {
     "iopub.execute_input": "2021-07-31T10:40:41.186149Z",
     "iopub.status.busy": "2021-07-31T10:40:41.185039Z",
     "iopub.status.idle": "2021-07-31T10:40:41.197703Z",
     "shell.execute_reply": "2021-07-31T10:40:41.197122Z",
     "shell.execute_reply.started": "2021-07-31T08:25:12.152864Z"
    },
    "papermill": {
     "duration": 0.051919,
     "end_time": "2021-07-31T10:40:41.197860",
     "exception": false,
     "start_time": "2021-07-31T10:40:41.145941",
     "status": "completed"
    },
    "tags": []
   },
   "outputs": [
    {
     "data": {
      "text/html": [
       "<div>\n",
       "<style scoped>\n",
       "    .dataframe tbody tr th:only-of-type {\n",
       "        vertical-align: middle;\n",
       "    }\n",
       "\n",
       "    .dataframe tbody tr th {\n",
       "        vertical-align: top;\n",
       "    }\n",
       "\n",
       "    .dataframe thead th {\n",
       "        text-align: right;\n",
       "    }\n",
       "</style>\n",
       "<table border=\"1\" class=\"dataframe\">\n",
       "  <thead>\n",
       "    <tr style=\"text-align: right;\">\n",
       "      <th></th>\n",
       "      <th>DATE_TIME</th>\n",
       "      <th>PLANT_ID</th>\n",
       "      <th>SOURCE_KEY</th>\n",
       "      <th>DC_POWER</th>\n",
       "      <th>AC_POWER</th>\n",
       "      <th>DAILY_YIELD</th>\n",
       "      <th>TOTAL_YIELD</th>\n",
       "    </tr>\n",
       "  </thead>\n",
       "  <tbody>\n",
       "    <tr>\n",
       "      <th>0</th>\n",
       "      <td>15-05-2020 00:00</td>\n",
       "      <td>4135001</td>\n",
       "      <td>1BY6WEcLGh8j5v7</td>\n",
       "      <td>0.0</td>\n",
       "      <td>0.0</td>\n",
       "      <td>0.0</td>\n",
       "      <td>6259559.0</td>\n",
       "    </tr>\n",
       "    <tr>\n",
       "      <th>1</th>\n",
       "      <td>15-05-2020 00:00</td>\n",
       "      <td>4135001</td>\n",
       "      <td>1IF53ai7Xc0U56Y</td>\n",
       "      <td>0.0</td>\n",
       "      <td>0.0</td>\n",
       "      <td>0.0</td>\n",
       "      <td>6183645.0</td>\n",
       "    </tr>\n",
       "    <tr>\n",
       "      <th>2</th>\n",
       "      <td>15-05-2020 00:00</td>\n",
       "      <td>4135001</td>\n",
       "      <td>3PZuoBAID5Wc2HD</td>\n",
       "      <td>0.0</td>\n",
       "      <td>0.0</td>\n",
       "      <td>0.0</td>\n",
       "      <td>6987759.0</td>\n",
       "    </tr>\n",
       "    <tr>\n",
       "      <th>3</th>\n",
       "      <td>15-05-2020 00:00</td>\n",
       "      <td>4135001</td>\n",
       "      <td>7JYdWkrLSPkdwr4</td>\n",
       "      <td>0.0</td>\n",
       "      <td>0.0</td>\n",
       "      <td>0.0</td>\n",
       "      <td>7602960.0</td>\n",
       "    </tr>\n",
       "    <tr>\n",
       "      <th>4</th>\n",
       "      <td>15-05-2020 00:00</td>\n",
       "      <td>4135001</td>\n",
       "      <td>McdE0feGgRqW7Ca</td>\n",
       "      <td>0.0</td>\n",
       "      <td>0.0</td>\n",
       "      <td>0.0</td>\n",
       "      <td>7158964.0</td>\n",
       "    </tr>\n",
       "  </tbody>\n",
       "</table>\n",
       "</div>"
      ],
      "text/plain": [
       "          DATE_TIME  PLANT_ID       SOURCE_KEY  DC_POWER  AC_POWER  \\\n",
       "0  15-05-2020 00:00   4135001  1BY6WEcLGh8j5v7       0.0       0.0   \n",
       "1  15-05-2020 00:00   4135001  1IF53ai7Xc0U56Y       0.0       0.0   \n",
       "2  15-05-2020 00:00   4135001  3PZuoBAID5Wc2HD       0.0       0.0   \n",
       "3  15-05-2020 00:00   4135001  7JYdWkrLSPkdwr4       0.0       0.0   \n",
       "4  15-05-2020 00:00   4135001  McdE0feGgRqW7Ca       0.0       0.0   \n",
       "\n",
       "   DAILY_YIELD  TOTAL_YIELD  \n",
       "0          0.0    6259559.0  \n",
       "1          0.0    6183645.0  \n",
       "2          0.0    6987759.0  \n",
       "3          0.0    7602960.0  \n",
       "4          0.0    7158964.0  "
      ]
     },
     "execution_count": 7,
     "metadata": {},
     "output_type": "execute_result"
    }
   ],
   "source": [
    "plant1_gen.head()"
   ]
  },
  {
   "cell_type": "code",
   "execution_count": 8,
   "id": "steady-reducing",
   "metadata": {
    "execution": {
     "iopub.execute_input": "2021-07-31T10:40:41.267956Z",
     "iopub.status.busy": "2021-07-31T10:40:41.267044Z",
     "iopub.status.idle": "2021-07-31T10:40:41.271465Z",
     "shell.execute_reply": "2021-07-31T10:40:41.270931Z",
     "shell.execute_reply.started": "2021-07-31T08:25:17.912800Z"
    },
    "papermill": {
     "duration": 0.046254,
     "end_time": "2021-07-31T10:40:41.271637",
     "exception": false,
     "start_time": "2021-07-31T10:40:41.225383",
     "status": "completed"
    },
    "tags": []
   },
   "outputs": [
    {
     "data": {
      "text/html": [
       "<div>\n",
       "<style scoped>\n",
       "    .dataframe tbody tr th:only-of-type {\n",
       "        vertical-align: middle;\n",
       "    }\n",
       "\n",
       "    .dataframe tbody tr th {\n",
       "        vertical-align: top;\n",
       "    }\n",
       "\n",
       "    .dataframe thead th {\n",
       "        text-align: right;\n",
       "    }\n",
       "</style>\n",
       "<table border=\"1\" class=\"dataframe\">\n",
       "  <thead>\n",
       "    <tr style=\"text-align: right;\">\n",
       "      <th></th>\n",
       "      <th>DATE_TIME</th>\n",
       "      <th>PLANT_ID</th>\n",
       "      <th>SOURCE_KEY</th>\n",
       "      <th>DC_POWER</th>\n",
       "      <th>AC_POWER</th>\n",
       "      <th>DAILY_YIELD</th>\n",
       "      <th>TOTAL_YIELD</th>\n",
       "    </tr>\n",
       "  </thead>\n",
       "  <tbody>\n",
       "    <tr>\n",
       "      <th>0</th>\n",
       "      <td>2020-05-15 00:00:00</td>\n",
       "      <td>4136001</td>\n",
       "      <td>4UPUqMRk7TRMgml</td>\n",
       "      <td>0.0</td>\n",
       "      <td>0.0</td>\n",
       "      <td>9425.000000</td>\n",
       "      <td>2.429011e+06</td>\n",
       "    </tr>\n",
       "    <tr>\n",
       "      <th>1</th>\n",
       "      <td>2020-05-15 00:00:00</td>\n",
       "      <td>4136001</td>\n",
       "      <td>81aHJ1q11NBPMrL</td>\n",
       "      <td>0.0</td>\n",
       "      <td>0.0</td>\n",
       "      <td>0.000000</td>\n",
       "      <td>1.215279e+09</td>\n",
       "    </tr>\n",
       "    <tr>\n",
       "      <th>2</th>\n",
       "      <td>2020-05-15 00:00:00</td>\n",
       "      <td>4136001</td>\n",
       "      <td>9kRcWv60rDACzjR</td>\n",
       "      <td>0.0</td>\n",
       "      <td>0.0</td>\n",
       "      <td>3075.333333</td>\n",
       "      <td>2.247720e+09</td>\n",
       "    </tr>\n",
       "    <tr>\n",
       "      <th>3</th>\n",
       "      <td>2020-05-15 00:00:00</td>\n",
       "      <td>4136001</td>\n",
       "      <td>Et9kgGMDl729KT4</td>\n",
       "      <td>0.0</td>\n",
       "      <td>0.0</td>\n",
       "      <td>269.933333</td>\n",
       "      <td>1.704250e+06</td>\n",
       "    </tr>\n",
       "    <tr>\n",
       "      <th>4</th>\n",
       "      <td>2020-05-15 00:00:00</td>\n",
       "      <td>4136001</td>\n",
       "      <td>IQ2d7wF4YD8zU1Q</td>\n",
       "      <td>0.0</td>\n",
       "      <td>0.0</td>\n",
       "      <td>3177.000000</td>\n",
       "      <td>1.994153e+07</td>\n",
       "    </tr>\n",
       "  </tbody>\n",
       "</table>\n",
       "</div>"
      ],
      "text/plain": [
       "             DATE_TIME  PLANT_ID       SOURCE_KEY  DC_POWER  AC_POWER  \\\n",
       "0  2020-05-15 00:00:00   4136001  4UPUqMRk7TRMgml       0.0       0.0   \n",
       "1  2020-05-15 00:00:00   4136001  81aHJ1q11NBPMrL       0.0       0.0   \n",
       "2  2020-05-15 00:00:00   4136001  9kRcWv60rDACzjR       0.0       0.0   \n",
       "3  2020-05-15 00:00:00   4136001  Et9kgGMDl729KT4       0.0       0.0   \n",
       "4  2020-05-15 00:00:00   4136001  IQ2d7wF4YD8zU1Q       0.0       0.0   \n",
       "\n",
       "   DAILY_YIELD   TOTAL_YIELD  \n",
       "0  9425.000000  2.429011e+06  \n",
       "1     0.000000  1.215279e+09  \n",
       "2  3075.333333  2.247720e+09  \n",
       "3   269.933333  1.704250e+06  \n",
       "4  3177.000000  1.994153e+07  "
      ]
     },
     "execution_count": 8,
     "metadata": {},
     "output_type": "execute_result"
    }
   ],
   "source": [
    "plant2_gen.head()"
   ]
  },
  {
   "cell_type": "code",
   "execution_count": 9,
   "id": "durable-substance",
   "metadata": {
    "execution": {
     "iopub.execute_input": "2021-07-31T10:40:41.343739Z",
     "iopub.status.busy": "2021-07-31T10:40:41.342724Z",
     "iopub.status.idle": "2021-07-31T10:40:41.347590Z",
     "shell.execute_reply": "2021-07-31T10:40:41.346904Z",
     "shell.execute_reply.started": "2021-07-31T07:53:04.120369Z"
    },
    "papermill": {
     "duration": 0.046744,
     "end_time": "2021-07-31T10:40:41.347741",
     "exception": false,
     "start_time": "2021-07-31T10:40:41.300997",
     "status": "completed"
    },
    "tags": []
   },
   "outputs": [
    {
     "data": {
      "text/html": [
       "<div>\n",
       "<style scoped>\n",
       "    .dataframe tbody tr th:only-of-type {\n",
       "        vertical-align: middle;\n",
       "    }\n",
       "\n",
       "    .dataframe tbody tr th {\n",
       "        vertical-align: top;\n",
       "    }\n",
       "\n",
       "    .dataframe thead th {\n",
       "        text-align: right;\n",
       "    }\n",
       "</style>\n",
       "<table border=\"1\" class=\"dataframe\">\n",
       "  <thead>\n",
       "    <tr style=\"text-align: right;\">\n",
       "      <th></th>\n",
       "      <th>DATE_TIME</th>\n",
       "      <th>PLANT_ID</th>\n",
       "      <th>SOURCE_KEY</th>\n",
       "      <th>AMBIENT_TEMPERATURE</th>\n",
       "      <th>MODULE_TEMPERATURE</th>\n",
       "      <th>IRRADIATION</th>\n",
       "    </tr>\n",
       "  </thead>\n",
       "  <tbody>\n",
       "    <tr>\n",
       "      <th>0</th>\n",
       "      <td>2020-05-15 00:00:00</td>\n",
       "      <td>4135001</td>\n",
       "      <td>HmiyD2TTLFNqkNe</td>\n",
       "      <td>25.184316</td>\n",
       "      <td>22.857507</td>\n",
       "      <td>0.0</td>\n",
       "    </tr>\n",
       "    <tr>\n",
       "      <th>1</th>\n",
       "      <td>2020-05-15 00:15:00</td>\n",
       "      <td>4135001</td>\n",
       "      <td>HmiyD2TTLFNqkNe</td>\n",
       "      <td>25.084589</td>\n",
       "      <td>22.761668</td>\n",
       "      <td>0.0</td>\n",
       "    </tr>\n",
       "    <tr>\n",
       "      <th>2</th>\n",
       "      <td>2020-05-15 00:30:00</td>\n",
       "      <td>4135001</td>\n",
       "      <td>HmiyD2TTLFNqkNe</td>\n",
       "      <td>24.935753</td>\n",
       "      <td>22.592306</td>\n",
       "      <td>0.0</td>\n",
       "    </tr>\n",
       "    <tr>\n",
       "      <th>3</th>\n",
       "      <td>2020-05-15 00:45:00</td>\n",
       "      <td>4135001</td>\n",
       "      <td>HmiyD2TTLFNqkNe</td>\n",
       "      <td>24.846130</td>\n",
       "      <td>22.360852</td>\n",
       "      <td>0.0</td>\n",
       "    </tr>\n",
       "    <tr>\n",
       "      <th>4</th>\n",
       "      <td>2020-05-15 01:00:00</td>\n",
       "      <td>4135001</td>\n",
       "      <td>HmiyD2TTLFNqkNe</td>\n",
       "      <td>24.621525</td>\n",
       "      <td>22.165423</td>\n",
       "      <td>0.0</td>\n",
       "    </tr>\n",
       "  </tbody>\n",
       "</table>\n",
       "</div>"
      ],
      "text/plain": [
       "             DATE_TIME  PLANT_ID       SOURCE_KEY  AMBIENT_TEMPERATURE  \\\n",
       "0  2020-05-15 00:00:00   4135001  HmiyD2TTLFNqkNe            25.184316   \n",
       "1  2020-05-15 00:15:00   4135001  HmiyD2TTLFNqkNe            25.084589   \n",
       "2  2020-05-15 00:30:00   4135001  HmiyD2TTLFNqkNe            24.935753   \n",
       "3  2020-05-15 00:45:00   4135001  HmiyD2TTLFNqkNe            24.846130   \n",
       "4  2020-05-15 01:00:00   4135001  HmiyD2TTLFNqkNe            24.621525   \n",
       "\n",
       "   MODULE_TEMPERATURE  IRRADIATION  \n",
       "0           22.857507          0.0  \n",
       "1           22.761668          0.0  \n",
       "2           22.592306          0.0  \n",
       "3           22.360852          0.0  \n",
       "4           22.165423          0.0  "
      ]
     },
     "execution_count": 9,
     "metadata": {},
     "output_type": "execute_result"
    }
   ],
   "source": [
    "plant1_sen.head()"
   ]
  },
  {
   "cell_type": "code",
   "execution_count": 10,
   "id": "starting-senior",
   "metadata": {
    "execution": {
     "iopub.execute_input": "2021-07-31T10:40:41.416937Z",
     "iopub.status.busy": "2021-07-31T10:40:41.415940Z",
     "iopub.status.idle": "2021-07-31T10:40:41.420520Z",
     "shell.execute_reply": "2021-07-31T10:40:41.419894Z",
     "shell.execute_reply.started": "2021-07-31T07:53:04.146281Z"
    },
    "papermill": {
     "duration": 0.044814,
     "end_time": "2021-07-31T10:40:41.420681",
     "exception": false,
     "start_time": "2021-07-31T10:40:41.375867",
     "status": "completed"
    },
    "tags": []
   },
   "outputs": [
    {
     "data": {
      "text/html": [
       "<div>\n",
       "<style scoped>\n",
       "    .dataframe tbody tr th:only-of-type {\n",
       "        vertical-align: middle;\n",
       "    }\n",
       "\n",
       "    .dataframe tbody tr th {\n",
       "        vertical-align: top;\n",
       "    }\n",
       "\n",
       "    .dataframe thead th {\n",
       "        text-align: right;\n",
       "    }\n",
       "</style>\n",
       "<table border=\"1\" class=\"dataframe\">\n",
       "  <thead>\n",
       "    <tr style=\"text-align: right;\">\n",
       "      <th></th>\n",
       "      <th>DATE_TIME</th>\n",
       "      <th>PLANT_ID</th>\n",
       "      <th>SOURCE_KEY</th>\n",
       "      <th>AMBIENT_TEMPERATURE</th>\n",
       "      <th>MODULE_TEMPERATURE</th>\n",
       "      <th>IRRADIATION</th>\n",
       "    </tr>\n",
       "  </thead>\n",
       "  <tbody>\n",
       "    <tr>\n",
       "      <th>0</th>\n",
       "      <td>2020-05-15 00:00:00</td>\n",
       "      <td>4136001</td>\n",
       "      <td>iq8k7ZNt4Mwm3w0</td>\n",
       "      <td>27.004764</td>\n",
       "      <td>25.060789</td>\n",
       "      <td>0.0</td>\n",
       "    </tr>\n",
       "    <tr>\n",
       "      <th>1</th>\n",
       "      <td>2020-05-15 00:15:00</td>\n",
       "      <td>4136001</td>\n",
       "      <td>iq8k7ZNt4Mwm3w0</td>\n",
       "      <td>26.880811</td>\n",
       "      <td>24.421869</td>\n",
       "      <td>0.0</td>\n",
       "    </tr>\n",
       "    <tr>\n",
       "      <th>2</th>\n",
       "      <td>2020-05-15 00:30:00</td>\n",
       "      <td>4136001</td>\n",
       "      <td>iq8k7ZNt4Mwm3w0</td>\n",
       "      <td>26.682055</td>\n",
       "      <td>24.427290</td>\n",
       "      <td>0.0</td>\n",
       "    </tr>\n",
       "    <tr>\n",
       "      <th>3</th>\n",
       "      <td>2020-05-15 00:45:00</td>\n",
       "      <td>4136001</td>\n",
       "      <td>iq8k7ZNt4Mwm3w0</td>\n",
       "      <td>26.500589</td>\n",
       "      <td>24.420678</td>\n",
       "      <td>0.0</td>\n",
       "    </tr>\n",
       "    <tr>\n",
       "      <th>4</th>\n",
       "      <td>2020-05-15 01:00:00</td>\n",
       "      <td>4136001</td>\n",
       "      <td>iq8k7ZNt4Mwm3w0</td>\n",
       "      <td>26.596148</td>\n",
       "      <td>25.088210</td>\n",
       "      <td>0.0</td>\n",
       "    </tr>\n",
       "  </tbody>\n",
       "</table>\n",
       "</div>"
      ],
      "text/plain": [
       "             DATE_TIME  PLANT_ID       SOURCE_KEY  AMBIENT_TEMPERATURE  \\\n",
       "0  2020-05-15 00:00:00   4136001  iq8k7ZNt4Mwm3w0            27.004764   \n",
       "1  2020-05-15 00:15:00   4136001  iq8k7ZNt4Mwm3w0            26.880811   \n",
       "2  2020-05-15 00:30:00   4136001  iq8k7ZNt4Mwm3w0            26.682055   \n",
       "3  2020-05-15 00:45:00   4136001  iq8k7ZNt4Mwm3w0            26.500589   \n",
       "4  2020-05-15 01:00:00   4136001  iq8k7ZNt4Mwm3w0            26.596148   \n",
       "\n",
       "   MODULE_TEMPERATURE  IRRADIATION  \n",
       "0           25.060789          0.0  \n",
       "1           24.421869          0.0  \n",
       "2           24.427290          0.0  \n",
       "3           24.420678          0.0  \n",
       "4           25.088210          0.0  "
      ]
     },
     "execution_count": 10,
     "metadata": {},
     "output_type": "execute_result"
    }
   ],
   "source": [
    "plant2_sen.head()"
   ]
  },
  {
   "cell_type": "code",
   "execution_count": 11,
   "id": "direct-ideal",
   "metadata": {
    "execution": {
     "iopub.execute_input": "2021-07-31T10:40:41.500146Z",
     "iopub.status.busy": "2021-07-31T10:40:41.499402Z",
     "iopub.status.idle": "2021-07-31T10:40:41.521956Z",
     "shell.execute_reply": "2021-07-31T10:40:41.522439Z",
     "shell.execute_reply.started": "2021-07-31T07:53:04.165370Z"
    },
    "papermill": {
     "duration": 0.073883,
     "end_time": "2021-07-31T10:40:41.522641",
     "exception": false,
     "start_time": "2021-07-31T10:40:41.448758",
     "status": "completed"
    },
    "tags": []
   },
   "outputs": [
    {
     "data": {
      "text/plain": [
       "666034832.9963583"
      ]
     },
     "execution_count": 11,
     "metadata": {},
     "output_type": "execute_result"
    }
   ],
   "source": [
    "ave=(sum(plant2_gen['TOTAL_YIELD'])+sum(plant1_gen['TOTAL_YIELD']))/len(plant2_gen['TOTAL_YIELD']+plant2_gen['TOTAL_YIELD'])\n",
    "ave"
   ]
  },
  {
   "cell_type": "code",
   "execution_count": 12,
   "id": "passive-rover",
   "metadata": {
    "execution": {
     "iopub.execute_input": "2021-07-31T10:40:41.583746Z",
     "iopub.status.busy": "2021-07-31T10:40:41.582760Z",
     "iopub.status.idle": "2021-07-31T10:40:41.590894Z",
     "shell.execute_reply": "2021-07-31T10:40:41.591412Z",
     "shell.execute_reply.started": "2021-07-31T09:49:22.013729Z"
    },
    "papermill": {
     "duration": 0.040309,
     "end_time": "2021-07-31T10:40:41.591616",
     "exception": false,
     "start_time": "2021-07-31T10:40:41.551307",
     "status": "completed"
    },
    "tags": []
   },
   "outputs": [
    {
     "name": "stdout",
     "output_type": "stream",
     "text": [
      "the Mean value of daily yield in Plant 1 is : 6978711.76\n",
      "the Mean value of daily yield in Plant 2 is : 658944788.42\n",
      "********************************************************************************\n",
      "the Mean value of daily yield in both Plant is : 666034833.00\n"
     ]
    }
   ],
   "source": [
    "print(\"the Mean value of daily yield in Plant 1 is : {0:.2f}\".format(plant1_gen['TOTAL_YIELD'].mean()))\n",
    "print(\"the Mean value of daily yield in Plant 2 is : {0:.2f}\".format(plant2_gen['TOTAL_YIELD'].mean()))\n",
    "print(\"********************************************************************************\")\n",
    "print(\"the Mean value of daily yield in both Plant is : {0:.2f}\".format(ave))\n"
   ]
  },
  {
   "cell_type": "code",
   "execution_count": 13,
   "id": "characteristic-namibia",
   "metadata": {
    "execution": {
     "iopub.execute_input": "2021-07-31T10:40:41.655258Z",
     "iopub.status.busy": "2021-07-31T10:40:41.654316Z",
     "iopub.status.idle": "2021-07-31T10:40:41.658682Z",
     "shell.execute_reply": "2021-07-31T10:40:41.658013Z",
     "shell.execute_reply.started": "2021-07-31T07:53:04.205901Z"
    },
    "papermill": {
     "duration": 0.038355,
     "end_time": "2021-07-31T10:40:41.658826",
     "exception": false,
     "start_time": "2021-07-31T10:40:41.620471",
     "status": "completed"
    },
    "tags": []
   },
   "outputs": [
    {
     "data": {
      "text/plain": [
       "758.489816935927"
      ]
     },
     "execution_count": 13,
     "metadata": {},
     "output_type": "execute_result"
    }
   ],
   "source": [
    "sum(plant2_sen['IRRADIATION'])"
   ]
  },
  {
   "cell_type": "code",
   "execution_count": 14,
   "id": "cooked-music",
   "metadata": {
    "execution": {
     "iopub.execute_input": "2021-07-31T10:40:41.724748Z",
     "iopub.status.busy": "2021-07-31T10:40:41.723709Z",
     "iopub.status.idle": "2021-07-31T10:40:41.728709Z",
     "shell.execute_reply": "2021-07-31T10:40:41.729469Z",
     "shell.execute_reply.started": "2021-07-31T09:26:31.227283Z"
    },
    "papermill": {
     "duration": 0.041757,
     "end_time": "2021-07-31T10:40:41.729710",
     "exception": false,
     "start_time": "2021-07-31T10:40:41.687953",
     "status": "completed"
    },
    "tags": []
   },
   "outputs": [
    {
     "name": "stdout",
     "output_type": "stream",
     "text": [
      " the total irradiation per day in Plant 1 is : 726.49\n",
      " the total irradiation per day in Plant 2 is : 758.49\n",
      "********************************************************************************\n",
      " the total irradiation per day in both Plant is : 1484.98\n"
     ]
    }
   ],
   "source": [
    "print(\" the total irradiation per day in Plant 1 is : {0:.2f}\".format(plant1_sen['IRRADIATION'].sum()))\n",
    "print(\" the total irradiation per day in Plant 2 is : {0:.2f}\".format(plant2_sen['IRRADIATION'].sum()))\n",
    "print(\"********************************************************************************\")\n",
    "print(\" the total irradiation per day in both Plant is : {0:.2f}\".format(plant2_sen['IRRADIATION'].sum()+plant1_sen['IRRADIATION'].sum()))"
   ]
  },
  {
   "cell_type": "code",
   "execution_count": 15,
   "id": "cultural-alarm",
   "metadata": {
    "execution": {
     "iopub.execute_input": "2021-07-31T10:40:41.798305Z",
     "iopub.status.busy": "2021-07-31T10:40:41.797312Z",
     "iopub.status.idle": "2021-07-31T10:40:41.802885Z",
     "shell.execute_reply": "2021-07-31T10:40:41.802299Z",
     "shell.execute_reply.started": "2021-07-31T09:26:24.168357Z"
    },
    "papermill": {
     "duration": 0.043188,
     "end_time": "2021-07-31T10:40:41.803041",
     "exception": false,
     "start_time": "2021-07-31T10:40:41.759853",
     "status": "completed"
    },
    "tags": []
   },
   "outputs": [
    {
     "name": "stdout",
     "output_type": "stream",
     "text": [
      " the Max Ambient Temperature in Plant 1 is : 35.25\n",
      " the Max Ambient Temperature in Plant 2 is : 39.18\n",
      "********************************************************************************\n",
      " the Max Module Temperature in Plant 1 is : 65.55\n",
      " the Max Module Temperature in Plant 2 is : 66.64\n"
     ]
    }
   ],
   "source": [
    "print(\" the Max Ambient Temperature in Plant 1 is : {0:.2f}\".format(plant1_sen['AMBIENT_TEMPERATURE'].max()))\n",
    "print(\" the Max Ambient Temperature in Plant 2 is : {0:.2f}\".format(plant2_sen['AMBIENT_TEMPERATURE'].max()))\n",
    "print(\"********************************************************************************\")\n",
    "print(\" the Max Module Temperature in Plant 1 is : {0:.2f}\".format(plant1_sen['MODULE_TEMPERATURE'].max()))\n",
    "print(\" the Max Module Temperature in Plant 2 is : {0:.2f}\".format(plant2_sen['MODULE_TEMPERATURE'].max()))"
   ]
  },
  {
   "cell_type": "code",
   "execution_count": 16,
   "id": "framed-perth",
   "metadata": {
    "execution": {
     "iopub.execute_input": "2021-07-31T10:40:41.872088Z",
     "iopub.status.busy": "2021-07-31T10:40:41.871349Z",
     "iopub.status.idle": "2021-07-31T10:40:41.882467Z",
     "shell.execute_reply": "2021-07-31T10:40:41.882997Z",
     "shell.execute_reply.started": "2021-07-31T08:27:00.843386Z"
    },
    "papermill": {
     "duration": 0.050307,
     "end_time": "2021-07-31T10:40:41.883167",
     "exception": false,
     "start_time": "2021-07-31T10:40:41.832860",
     "status": "completed"
    },
    "tags": []
   },
   "outputs": [
    {
     "name": "stdout",
     "output_type": "stream",
     "text": [
      " There are total Inverter SOURCE_KEY in Plant 1 is 22   \n",
      " There are total Inverter SOURCE_KEY in Plant 2 is 22  \n"
     ]
    }
   ],
   "source": [
    "print(\" There are total Inverter SOURCE_KEY in Plant 1 is {}   \".format(len(plant1_gen['SOURCE_KEY'].unique())))\n",
    "print(\" There are total Inverter SOURCE_KEY in Plant 2 is {}  \".format(len(plant2_gen['SOURCE_KEY'].unique())))"
   ]
  },
  {
   "cell_type": "code",
   "execution_count": 17,
   "id": "patient-credit",
   "metadata": {
    "execution": {
     "iopub.execute_input": "2021-07-31T10:40:41.956394Z",
     "iopub.status.busy": "2021-07-31T10:40:41.955368Z",
     "iopub.status.idle": "2021-07-31T10:40:41.968416Z",
     "shell.execute_reply": "2021-07-31T10:40:41.967644Z",
     "shell.execute_reply.started": "2021-07-31T08:27:34.358499Z"
    },
    "papermill": {
     "duration": 0.055159,
     "end_time": "2021-07-31T10:40:41.968629",
     "exception": false,
     "start_time": "2021-07-31T10:40:41.913470",
     "status": "completed"
    },
    "tags": []
   },
   "outputs": [
    {
     "name": "stdout",
     "output_type": "stream",
     "text": [
      " There are total Inverter in Plant 1 is 68778   \n",
      " There are total Inverter in Plant 2 is 67698   \n"
     ]
    }
   ],
   "source": [
    "print(\" There are total Inverter in Plant 1 is {}   \".format(plant1_gen['SOURCE_KEY'].count()))\n",
    "print(\" There are total Inverter in Plant 2 is {}   \".format(plant2_gen['SOURCE_KEY'].count()))"
   ]
  },
  {
   "cell_type": "code",
   "execution_count": 18,
   "id": "objective-stream",
   "metadata": {
    "execution": {
     "iopub.execute_input": "2021-07-31T10:40:42.045788Z",
     "iopub.status.busy": "2021-07-31T10:40:42.044789Z",
     "iopub.status.idle": "2021-07-31T10:40:42.049397Z",
     "shell.execute_reply": "2021-07-31T10:40:42.048839Z",
     "shell.execute_reply.started": "2021-07-31T10:39:44.108622Z"
    },
    "papermill": {
     "duration": 0.04966,
     "end_time": "2021-07-31T10:40:42.049542",
     "exception": false,
     "start_time": "2021-07-31T10:40:41.999882",
     "status": "completed"
    },
    "tags": []
   },
   "outputs": [
    {
     "data": {
      "text/html": [
       "<div>\n",
       "<style scoped>\n",
       "    .dataframe tbody tr th:only-of-type {\n",
       "        vertical-align: middle;\n",
       "    }\n",
       "\n",
       "    .dataframe tbody tr th {\n",
       "        vertical-align: top;\n",
       "    }\n",
       "\n",
       "    .dataframe thead th {\n",
       "        text-align: right;\n",
       "    }\n",
       "</style>\n",
       "<table border=\"1\" class=\"dataframe\">\n",
       "  <thead>\n",
       "    <tr style=\"text-align: right;\">\n",
       "      <th></th>\n",
       "      <th>DATE_TIME</th>\n",
       "      <th>PLANT_ID</th>\n",
       "      <th>SOURCE_KEY</th>\n",
       "      <th>DC_POWER</th>\n",
       "      <th>AC_POWER</th>\n",
       "      <th>DAILY_YIELD</th>\n",
       "      <th>TOTAL_YIELD</th>\n",
       "    </tr>\n",
       "  </thead>\n",
       "  <tbody>\n",
       "    <tr>\n",
       "      <th>0</th>\n",
       "      <td>15-05-2020 00:00</td>\n",
       "      <td>4135001</td>\n",
       "      <td>1BY6WEcLGh8j5v7</td>\n",
       "      <td>0.0</td>\n",
       "      <td>0.0</td>\n",
       "      <td>0.0</td>\n",
       "      <td>6259559.0</td>\n",
       "    </tr>\n",
       "    <tr>\n",
       "      <th>1</th>\n",
       "      <td>15-05-2020 00:00</td>\n",
       "      <td>4135001</td>\n",
       "      <td>1IF53ai7Xc0U56Y</td>\n",
       "      <td>0.0</td>\n",
       "      <td>0.0</td>\n",
       "      <td>0.0</td>\n",
       "      <td>6183645.0</td>\n",
       "    </tr>\n",
       "    <tr>\n",
       "      <th>2</th>\n",
       "      <td>15-05-2020 00:00</td>\n",
       "      <td>4135001</td>\n",
       "      <td>3PZuoBAID5Wc2HD</td>\n",
       "      <td>0.0</td>\n",
       "      <td>0.0</td>\n",
       "      <td>0.0</td>\n",
       "      <td>6987759.0</td>\n",
       "    </tr>\n",
       "    <tr>\n",
       "      <th>3</th>\n",
       "      <td>15-05-2020 00:00</td>\n",
       "      <td>4135001</td>\n",
       "      <td>7JYdWkrLSPkdwr4</td>\n",
       "      <td>0.0</td>\n",
       "      <td>0.0</td>\n",
       "      <td>0.0</td>\n",
       "      <td>7602960.0</td>\n",
       "    </tr>\n",
       "    <tr>\n",
       "      <th>4</th>\n",
       "      <td>15-05-2020 00:00</td>\n",
       "      <td>4135001</td>\n",
       "      <td>McdE0feGgRqW7Ca</td>\n",
       "      <td>0.0</td>\n",
       "      <td>0.0</td>\n",
       "      <td>0.0</td>\n",
       "      <td>7158964.0</td>\n",
       "    </tr>\n",
       "  </tbody>\n",
       "</table>\n",
       "</div>"
      ],
      "text/plain": [
       "          DATE_TIME  PLANT_ID       SOURCE_KEY  DC_POWER  AC_POWER  \\\n",
       "0  15-05-2020 00:00   4135001  1BY6WEcLGh8j5v7       0.0       0.0   \n",
       "1  15-05-2020 00:00   4135001  1IF53ai7Xc0U56Y       0.0       0.0   \n",
       "2  15-05-2020 00:00   4135001  3PZuoBAID5Wc2HD       0.0       0.0   \n",
       "3  15-05-2020 00:00   4135001  7JYdWkrLSPkdwr4       0.0       0.0   \n",
       "4  15-05-2020 00:00   4135001  McdE0feGgRqW7Ca       0.0       0.0   \n",
       "\n",
       "   DAILY_YIELD  TOTAL_YIELD  \n",
       "0          0.0    6259559.0  \n",
       "1          0.0    6183645.0  \n",
       "2          0.0    6987759.0  \n",
       "3          0.0    7602960.0  \n",
       "4          0.0    7158964.0  "
      ]
     },
     "execution_count": 18,
     "metadata": {},
     "output_type": "execute_result"
    }
   ],
   "source": [
    "plant1_gen.head()"
   ]
  },
  {
   "cell_type": "code",
   "execution_count": 19,
   "id": "second-clearing",
   "metadata": {
    "execution": {
     "iopub.execute_input": "2021-07-31T10:40:42.115260Z",
     "iopub.status.busy": "2021-07-31T10:40:42.114621Z",
     "iopub.status.idle": "2021-07-31T10:40:42.129290Z",
     "shell.execute_reply": "2021-07-31T10:40:42.129764Z",
     "shell.execute_reply.started": "2021-07-31T10:39:57.672478Z"
    },
    "papermill": {
     "duration": 0.049722,
     "end_time": "2021-07-31T10:40:42.129959",
     "exception": false,
     "start_time": "2021-07-31T10:40:42.080237",
     "status": "completed"
    },
    "tags": []
   },
   "outputs": [
    {
     "data": {
      "text/html": [
       "<div>\n",
       "<style scoped>\n",
       "    .dataframe tbody tr th:only-of-type {\n",
       "        vertical-align: middle;\n",
       "    }\n",
       "\n",
       "    .dataframe tbody tr th {\n",
       "        vertical-align: top;\n",
       "    }\n",
       "\n",
       "    .dataframe thead th {\n",
       "        text-align: right;\n",
       "    }\n",
       "</style>\n",
       "<table border=\"1\" class=\"dataframe\">\n",
       "  <thead>\n",
       "    <tr style=\"text-align: right;\">\n",
       "      <th></th>\n",
       "      <th>DATE_TIME</th>\n",
       "      <th>PLANT_ID</th>\n",
       "      <th>SOURCE_KEY</th>\n",
       "      <th>DC_POWER</th>\n",
       "      <th>AC_POWER</th>\n",
       "      <th>DAILY_YIELD</th>\n",
       "      <th>TOTAL_YIELD</th>\n",
       "    </tr>\n",
       "  </thead>\n",
       "  <tbody>\n",
       "    <tr>\n",
       "      <th>0</th>\n",
       "      <td>2020-05-15 00:00:00</td>\n",
       "      <td>4136001</td>\n",
       "      <td>4UPUqMRk7TRMgml</td>\n",
       "      <td>0.0</td>\n",
       "      <td>0.0</td>\n",
       "      <td>9425.000000</td>\n",
       "      <td>2.429011e+06</td>\n",
       "    </tr>\n",
       "    <tr>\n",
       "      <th>1</th>\n",
       "      <td>2020-05-15 00:00:00</td>\n",
       "      <td>4136001</td>\n",
       "      <td>81aHJ1q11NBPMrL</td>\n",
       "      <td>0.0</td>\n",
       "      <td>0.0</td>\n",
       "      <td>0.000000</td>\n",
       "      <td>1.215279e+09</td>\n",
       "    </tr>\n",
       "    <tr>\n",
       "      <th>2</th>\n",
       "      <td>2020-05-15 00:00:00</td>\n",
       "      <td>4136001</td>\n",
       "      <td>9kRcWv60rDACzjR</td>\n",
       "      <td>0.0</td>\n",
       "      <td>0.0</td>\n",
       "      <td>3075.333333</td>\n",
       "      <td>2.247720e+09</td>\n",
       "    </tr>\n",
       "    <tr>\n",
       "      <th>3</th>\n",
       "      <td>2020-05-15 00:00:00</td>\n",
       "      <td>4136001</td>\n",
       "      <td>Et9kgGMDl729KT4</td>\n",
       "      <td>0.0</td>\n",
       "      <td>0.0</td>\n",
       "      <td>269.933333</td>\n",
       "      <td>1.704250e+06</td>\n",
       "    </tr>\n",
       "    <tr>\n",
       "      <th>4</th>\n",
       "      <td>2020-05-15 00:00:00</td>\n",
       "      <td>4136001</td>\n",
       "      <td>IQ2d7wF4YD8zU1Q</td>\n",
       "      <td>0.0</td>\n",
       "      <td>0.0</td>\n",
       "      <td>3177.000000</td>\n",
       "      <td>1.994153e+07</td>\n",
       "    </tr>\n",
       "  </tbody>\n",
       "</table>\n",
       "</div>"
      ],
      "text/plain": [
       "             DATE_TIME  PLANT_ID       SOURCE_KEY  DC_POWER  AC_POWER  \\\n",
       "0  2020-05-15 00:00:00   4136001  4UPUqMRk7TRMgml       0.0       0.0   \n",
       "1  2020-05-15 00:00:00   4136001  81aHJ1q11NBPMrL       0.0       0.0   \n",
       "2  2020-05-15 00:00:00   4136001  9kRcWv60rDACzjR       0.0       0.0   \n",
       "3  2020-05-15 00:00:00   4136001  Et9kgGMDl729KT4       0.0       0.0   \n",
       "4  2020-05-15 00:00:00   4136001  IQ2d7wF4YD8zU1Q       0.0       0.0   \n",
       "\n",
       "   DAILY_YIELD   TOTAL_YIELD  \n",
       "0  9425.000000  2.429011e+06  \n",
       "1     0.000000  1.215279e+09  \n",
       "2  3075.333333  2.247720e+09  \n",
       "3   269.933333  1.704250e+06  \n",
       "4  3177.000000  1.994153e+07  "
      ]
     },
     "execution_count": 19,
     "metadata": {},
     "output_type": "execute_result"
    }
   ],
   "source": [
    "plant2_gen.head()"
   ]
  },
  {
   "cell_type": "code",
   "execution_count": 20,
   "id": "floral-violence",
   "metadata": {
    "execution": {
     "iopub.execute_input": "2021-07-31T10:40:42.196731Z",
     "iopub.status.busy": "2021-07-31T10:40:42.195679Z",
     "iopub.status.idle": "2021-07-31T10:40:42.203809Z",
     "shell.execute_reply": "2021-07-31T10:40:42.204288Z",
     "shell.execute_reply.started": "2021-07-31T10:00:02.649019Z"
    },
    "papermill": {
     "duration": 0.043331,
     "end_time": "2021-07-31T10:40:42.204498",
     "exception": false,
     "start_time": "2021-07-31T10:40:42.161167",
     "status": "completed"
    },
    "tags": []
   },
   "outputs": [],
   "source": [
    "plant1_gen['AC/DC_Ratio']=plant1_gen['DC_POWER']/plant1_gen['AC_POWER']\n",
    "plant2_gen['AC/DC_Ratio']=plant2_gen['DC_POWER']/plant2_gen['AC_POWER']"
   ]
  },
  {
   "cell_type": "code",
   "execution_count": 21,
   "id": "uniform-dinner",
   "metadata": {
    "execution": {
     "iopub.execute_input": "2021-07-31T10:40:42.271363Z",
     "iopub.status.busy": "2021-07-31T10:40:42.270301Z",
     "iopub.status.idle": "2021-07-31T10:40:42.283090Z",
     "shell.execute_reply": "2021-07-31T10:40:42.283585Z",
     "shell.execute_reply.started": "2021-07-31T10:00:05.962882Z"
    },
    "papermill": {
     "duration": 0.04806,
     "end_time": "2021-07-31T10:40:42.283774",
     "exception": false,
     "start_time": "2021-07-31T10:40:42.235714",
     "status": "completed"
    },
    "tags": []
   },
   "outputs": [
    {
     "name": "stdout",
     "output_type": "stream",
     "text": [
      " Maximum amount of DC_POWER generated in Plant 1 is  14471.125\n",
      " Maximum amount of DC_POWER generated in Plant 2 is 1420.93\n",
      "********************************************************************************\n",
      " Maximum amount of AC_POWER generated in Plant 1 is  1410.95\n",
      " Maximum amount of AC_POWER generated in Plant 2 is  1385.42\n",
      "********************************************************************************\n",
      " Maximum amount of DC/AC Power generated in Plant 1 is 10.47\n",
      " Maximum amount of DC/AC Power generated in Plant 2 is 1.10\n"
     ]
    }
   ],
   "source": [
    "print(f\" Maximum amount of DC_POWER generated in Plant 1 is \",plant1_gen['DC_POWER'].max())\n",
    "print(\" Maximum amount of DC_POWER generated in Plant 2 is {0:.2f}\".format(plant2_gen['DC_POWER'].max()))\n",
    "print(\"********************************************************************************\")\n",
    "print(f\" Maximum amount of AC_POWER generated in Plant 1 is \",plant1_gen['AC_POWER'].max())\n",
    "print(f\" Maximum amount of AC_POWER generated in Plant 2 is \",plant2_gen['AC_POWER'].max())\n",
    "print(\"********************************************************************************\")\n",
    "print(\" Maximum amount of DC/AC Power generated in Plant 1 is {0:.2f}\".format(plant1_gen['AC/DC_Ratio'].max()))\n",
    "print(\" Maximum amount of DC/AC Power generated in Plant 2 is {0:.2f}\".format(plant2_gen['AC/DC_Ratio'].max()))"
   ]
  },
  {
   "cell_type": "code",
   "execution_count": 22,
   "id": "altered-preservation",
   "metadata": {
    "execution": {
     "iopub.execute_input": "2021-07-31T10:40:42.353367Z",
     "iopub.status.busy": "2021-07-31T10:40:42.352222Z",
     "iopub.status.idle": "2021-07-31T10:40:42.360135Z",
     "shell.execute_reply": "2021-07-31T10:40:42.360707Z",
     "shell.execute_reply.started": "2021-07-31T10:00:08.627987Z"
    },
    "papermill": {
     "duration": 0.045314,
     "end_time": "2021-07-31T10:40:42.360893",
     "exception": false,
     "start_time": "2021-07-31T10:40:42.315579",
     "status": "completed"
    },
    "tags": []
   },
   "outputs": [
    {
     "data": {
      "text/plain": [
       "9.381550015628699"
      ]
     },
     "execution_count": 22,
     "metadata": {},
     "output_type": "execute_result"
    }
   ],
   "source": [
    "plant1_gen['AC/DC_Ratio'].min()"
   ]
  },
  {
   "cell_type": "code",
   "execution_count": 23,
   "id": "fifty-spending",
   "metadata": {
    "execution": {
     "iopub.execute_input": "2021-07-31T10:40:42.430284Z",
     "iopub.status.busy": "2021-07-31T10:40:42.429592Z",
     "iopub.status.idle": "2021-07-31T10:40:42.481295Z",
     "shell.execute_reply": "2021-07-31T10:40:42.481851Z",
     "shell.execute_reply.started": "2021-07-31T10:04:07.311747Z"
    },
    "papermill": {
     "duration": 0.088362,
     "end_time": "2021-07-31T10:40:42.482034",
     "exception": false,
     "start_time": "2021-07-31T10:40:42.393672",
     "status": "completed"
    },
    "tags": []
   },
   "outputs": [
    {
     "name": "stdout",
     "output_type": "stream",
     "text": [
      " Minimum amount of DC_POWER generated in Plant 1 is  0.0\n",
      " Minimum amount of DC_POWER generated in Plant 2 is 0.00\n",
      "********************************************************************************\n",
      " Minimum amount of AC_POWER generated in Plant 1 is  0.0\n",
      " Minimum amount of AC_POWER generated in Plant 2 is  0.0\n",
      "********************************************************************************\n",
      " Minimum amount of DC/AC Power generated in Plant 1 is 9.38\n",
      " Minimum amount of DC/AC Power generated in Plant 2 is 0.99\n",
      "********************************************************************************\n",
      "                                                   \n",
      "Minimum amount of AC/DC_Ratio generated from SOURCE_KEY  in Plant 1 is \n",
      "AC/DC_Ratio            9.38155\n",
      "SOURCE_KEY     1BY6WEcLGh8j5v7\n",
      "dtype: object\n",
      "********************************************************************************\n",
      "Minimum amount of AC/DC_Ratio generated from SOURCE_KEY  in Plant 2 is \n",
      "AC/DC_Ratio           0.991749\n",
      "SOURCE_KEY     4UPUqMRk7TRMgml\n",
      "dtype: object\n"
     ]
    }
   ],
   "source": [
    "print(f\" Minimum amount of DC_POWER generated in Plant 1 is \",plant1_gen['DC_POWER'].min())\n",
    "print(\" Minimum amount of DC_POWER generated in Plant 2 is {0:.2f}\".format(plant2_gen['DC_POWER'].min()))\n",
    "print(\"********************************************************************************\")\n",
    "print(f\" Minimum amount of AC_POWER generated in Plant 1 is \",plant1_gen['AC_POWER'].min())\n",
    "print(f\" Minimum amount of AC_POWER generated in Plant 2 is \",plant2_gen['AC_POWER'].min())\n",
    "print(\"********************************************************************************\")\n",
    "print(\" Minimum amount of DC/AC Power generated in Plant 1 is {0:.2f}\".format(plant1_gen['AC/DC_Ratio'].min()))\n",
    "print(\" Minimum amount of DC/AC Power generated in Plant 2 is {0:.2f}\".format(plant2_gen['AC/DC_Ratio'].min()))\n",
    "print(\"********************************************************************************\")\n",
    "\n",
    "print(\"                                                   \")\n",
    "\n",
    "print(\"Minimum amount of AC/DC_Ratio generated from SOURCE_KEY  in Plant 1 is \")\n",
    "print(plant1_gen[['AC/DC_Ratio','SOURCE_KEY']].min())\n",
    "print(\"********************************************************************************\")\n",
    "print(\"Minimum amount of AC/DC_Ratio generated from SOURCE_KEY  in Plant 2 is \")\n",
    "print(plant2_gen[['AC/DC_Ratio','SOURCE_KEY']].min())"
   ]
  },
  {
   "cell_type": "code",
   "execution_count": 24,
   "id": "going-weapon",
   "metadata": {
    "execution": {
     "iopub.execute_input": "2021-07-31T10:40:42.557879Z",
     "iopub.status.busy": "2021-07-31T10:40:42.557160Z",
     "iopub.status.idle": "2021-07-31T10:40:42.648968Z",
     "shell.execute_reply": "2021-07-31T10:40:42.648231Z",
     "shell.execute_reply.started": "2021-07-31T10:03:21.826447Z"
    },
    "papermill": {
     "duration": 0.134433,
     "end_time": "2021-07-31T10:40:42.649110",
     "exception": false,
     "start_time": "2021-07-31T10:40:42.514677",
     "status": "completed"
    },
    "tags": []
   },
   "outputs": [
    {
     "name": "stdout",
     "output_type": "stream",
     "text": [
      "Maximum amount of DC_POWER generated from SOURCE_KEY  in Plant 1 is \n",
      "DC_POWER            14471.125\n",
      "SOURCE_KEY    zVJPv84UY57bAof\n",
      "dtype: object\n",
      "********************************************************************************\n",
      "Maximum amount of DC_POWER generated from SOURCE_KEY  in Plant 2 is \n",
      "DC_POWER          1420.933333\n",
      "SOURCE_KEY    xoJJ8DcxJEcupym\n",
      "dtype: object\n",
      "********************************************************************************\n",
      "Maximum amount of AC_POWER generated from SOURCE_KEY  in Plant 1 is \n",
      "AC_POWER              1410.95\n",
      "SOURCE_KEY    zVJPv84UY57bAof\n",
      "dtype: object\n",
      "********************************************************************************\n",
      "Maximum amount of AC_POWER generated from SOURCE_KEY  in Plant 2 is \n",
      "AC_POWER              1385.42\n",
      "SOURCE_KEY    xoJJ8DcxJEcupym\n",
      "dtype: object\n",
      "********************************************************************************\n",
      "                                                   \n",
      "Maximum amount of AC/DC_Ratio generated from SOURCE_KEY  in Plant 1 is \n",
      "AC/DC_Ratio          10.465522\n",
      "SOURCE_KEY     zVJPv84UY57bAof\n",
      "dtype: object\n",
      "********************************************************************************\n",
      "Maximum amount of AC/DC_Ratio generated from SOURCE_KEY  in Plant 2 is \n",
      "AC/DC_Ratio           1.095543\n",
      "SOURCE_KEY     xoJJ8DcxJEcupym\n",
      "dtype: object\n"
     ]
    }
   ],
   "source": [
    "print(\"Maximum amount of DC_POWER generated from SOURCE_KEY  in Plant 1 is \")\n",
    "print(plant1_gen[['DC_POWER','SOURCE_KEY']].max())\n",
    "print(\"********************************************************************************\")\n",
    "print(\"Maximum amount of DC_POWER generated from SOURCE_KEY  in Plant 2 is \")\n",
    "print(plant2_gen[['DC_POWER','SOURCE_KEY']].max())\n",
    "print(\"********************************************************************************\")\n",
    "print(\"Maximum amount of AC_POWER generated from SOURCE_KEY  in Plant 1 is \")\n",
    "print(plant1_gen[['AC_POWER','SOURCE_KEY']].max())\n",
    "print(\"********************************************************************************\")\n",
    "print(\"Maximum amount of AC_POWER generated from SOURCE_KEY  in Plant 2 is \")\n",
    "print(plant2_gen[['AC_POWER','SOURCE_KEY']].max())\n",
    "print(\"********************************************************************************\")\n",
    "\n",
    "print(\"                                                   \")\n",
    "\n",
    "print(\"Maximum amount of AC/DC_Ratio generated from SOURCE_KEY  in Plant 1 is \")\n",
    "print(plant1_gen[['AC/DC_Ratio','SOURCE_KEY']].max())\n",
    "print(\"********************************************************************************\")\n",
    "print(\"Maximum amount of AC/DC_Ratio generated from SOURCE_KEY  in Plant 2 is \")\n",
    "print(plant2_gen[['AC/DC_Ratio','SOURCE_KEY']].max())"
   ]
  },
  {
   "cell_type": "code",
   "execution_count": 25,
   "id": "ignored-portfolio",
   "metadata": {
    "execution": {
     "iopub.execute_input": "2021-07-31T10:40:42.733899Z",
     "iopub.status.busy": "2021-07-31T10:40:42.733049Z",
     "iopub.status.idle": "2021-07-31T10:40:42.737329Z",
     "shell.execute_reply": "2021-07-31T10:40:42.736815Z",
     "shell.execute_reply.started": "2021-07-31T10:05:37.670853Z"
    },
    "papermill": {
     "duration": 0.053942,
     "end_time": "2021-07-31T10:40:42.737482",
     "exception": false,
     "start_time": "2021-07-31T10:40:42.683540",
     "status": "completed"
    },
    "tags": []
   },
   "outputs": [
    {
     "data": {
      "text/html": [
       "<div>\n",
       "<style scoped>\n",
       "    .dataframe tbody tr th:only-of-type {\n",
       "        vertical-align: middle;\n",
       "    }\n",
       "\n",
       "    .dataframe tbody tr th {\n",
       "        vertical-align: top;\n",
       "    }\n",
       "\n",
       "    .dataframe thead th {\n",
       "        text-align: right;\n",
       "    }\n",
       "</style>\n",
       "<table border=\"1\" class=\"dataframe\">\n",
       "  <thead>\n",
       "    <tr style=\"text-align: right;\">\n",
       "      <th></th>\n",
       "      <th>DATE_TIME</th>\n",
       "      <th>PLANT_ID</th>\n",
       "      <th>SOURCE_KEY</th>\n",
       "      <th>DC_POWER</th>\n",
       "      <th>AC_POWER</th>\n",
       "      <th>DAILY_YIELD</th>\n",
       "      <th>TOTAL_YIELD</th>\n",
       "      <th>AC/DC_Ratio</th>\n",
       "    </tr>\n",
       "  </thead>\n",
       "  <tbody>\n",
       "    <tr>\n",
       "      <th>0</th>\n",
       "      <td>15-05-2020 00:00</td>\n",
       "      <td>4135001</td>\n",
       "      <td>1BY6WEcLGh8j5v7</td>\n",
       "      <td>0.0</td>\n",
       "      <td>0.0</td>\n",
       "      <td>0.0</td>\n",
       "      <td>6259559.0</td>\n",
       "      <td>NaN</td>\n",
       "    </tr>\n",
       "    <tr>\n",
       "      <th>1</th>\n",
       "      <td>15-05-2020 00:00</td>\n",
       "      <td>4135001</td>\n",
       "      <td>1IF53ai7Xc0U56Y</td>\n",
       "      <td>0.0</td>\n",
       "      <td>0.0</td>\n",
       "      <td>0.0</td>\n",
       "      <td>6183645.0</td>\n",
       "      <td>NaN</td>\n",
       "    </tr>\n",
       "    <tr>\n",
       "      <th>2</th>\n",
       "      <td>15-05-2020 00:00</td>\n",
       "      <td>4135001</td>\n",
       "      <td>3PZuoBAID5Wc2HD</td>\n",
       "      <td>0.0</td>\n",
       "      <td>0.0</td>\n",
       "      <td>0.0</td>\n",
       "      <td>6987759.0</td>\n",
       "      <td>NaN</td>\n",
       "    </tr>\n",
       "    <tr>\n",
       "      <th>3</th>\n",
       "      <td>15-05-2020 00:00</td>\n",
       "      <td>4135001</td>\n",
       "      <td>7JYdWkrLSPkdwr4</td>\n",
       "      <td>0.0</td>\n",
       "      <td>0.0</td>\n",
       "      <td>0.0</td>\n",
       "      <td>7602960.0</td>\n",
       "      <td>NaN</td>\n",
       "    </tr>\n",
       "    <tr>\n",
       "      <th>4</th>\n",
       "      <td>15-05-2020 00:00</td>\n",
       "      <td>4135001</td>\n",
       "      <td>McdE0feGgRqW7Ca</td>\n",
       "      <td>0.0</td>\n",
       "      <td>0.0</td>\n",
       "      <td>0.0</td>\n",
       "      <td>7158964.0</td>\n",
       "      <td>NaN</td>\n",
       "    </tr>\n",
       "  </tbody>\n",
       "</table>\n",
       "</div>"
      ],
      "text/plain": [
       "          DATE_TIME  PLANT_ID       SOURCE_KEY  DC_POWER  AC_POWER  \\\n",
       "0  15-05-2020 00:00   4135001  1BY6WEcLGh8j5v7       0.0       0.0   \n",
       "1  15-05-2020 00:00   4135001  1IF53ai7Xc0U56Y       0.0       0.0   \n",
       "2  15-05-2020 00:00   4135001  3PZuoBAID5Wc2HD       0.0       0.0   \n",
       "3  15-05-2020 00:00   4135001  7JYdWkrLSPkdwr4       0.0       0.0   \n",
       "4  15-05-2020 00:00   4135001  McdE0feGgRqW7Ca       0.0       0.0   \n",
       "\n",
       "   DAILY_YIELD  TOTAL_YIELD  AC/DC_Ratio  \n",
       "0          0.0    6259559.0          NaN  \n",
       "1          0.0    6183645.0          NaN  \n",
       "2          0.0    6987759.0          NaN  \n",
       "3          0.0    7602960.0          NaN  \n",
       "4          0.0    7158964.0          NaN  "
      ]
     },
     "execution_count": 25,
     "metadata": {},
     "output_type": "execute_result"
    }
   ],
   "source": [
    "plant1_gen.head()"
   ]
  },
  {
   "cell_type": "code",
   "execution_count": 26,
   "id": "round-philippines",
   "metadata": {
    "execution": {
     "iopub.execute_input": "2021-07-31T10:40:42.817147Z",
     "iopub.status.busy": "2021-07-31T10:40:42.815845Z",
     "iopub.status.idle": "2021-07-31T10:40:42.843413Z",
     "shell.execute_reply": "2021-07-31T10:40:42.844160Z",
     "shell.execute_reply.started": "2021-07-31T10:21:09.145999Z"
    },
    "papermill": {
     "duration": 0.072957,
     "end_time": "2021-07-31T10:40:42.844452",
     "exception": false,
     "start_time": "2021-07-31T10:40:42.771495",
     "status": "completed"
    },
    "tags": []
   },
   "outputs": [
    {
     "name": "stdout",
     "output_type": "stream",
     "text": [
      "Top 10 inverters based on the Maximum AC_POWER they produce in Plant 1\n",
      "         \n",
      "          AC_POWER       SOURCE_KEY\n",
      "61624  1410.950000  wCURE6d3bPkepu2\n",
      "61613  1410.528571  YxYtjZvoooNbGkE\n",
      "61618  1407.542857  iCRJl6heRkivqQ3\n",
      "61610  1405.800000  McdE0feGgRqW7Ca\n",
      "61616  1405.585714  adLQvlD726eNBSB\n",
      "40560  1405.300000  adLQvlD726eNBSB\n",
      "61625  1401.125000  z9Y9gH1T5YWrNuG\n",
      "61622  1399.842857  sjndEbLyjtCKgGv\n",
      "61608  1399.225000  3PZuoBAID5Wc2HD\n",
      "61627  1397.085714  zVJPv84UY57bAof\n",
      "         \n",
      "********************************************************************************\n",
      "Top 10 inverters based on the Maximum DC_POWER they produce in Plant 1\n",
      "         \n",
      "          DC_POWER       SOURCE_KEY\n",
      "61624  14471.12500  wCURE6d3bPkepu2\n",
      "61613  14466.85714  YxYtjZvoooNbGkE\n",
      "61618  14436.28571  iCRJl6heRkivqQ3\n",
      "61610  14418.42857  McdE0feGgRqW7Ca\n",
      "61616  14416.14286  adLQvlD726eNBSB\n",
      "40560  14413.42857  adLQvlD726eNBSB\n",
      "61625  14370.50000  z9Y9gH1T5YWrNuG\n",
      "61622  14357.42857  sjndEbLyjtCKgGv\n",
      "61608  14351.12500  3PZuoBAID5Wc2HD\n",
      "61627  14329.14286  zVJPv84UY57bAof\n",
      "         \n",
      "********************************************************************************\n",
      "Top 10 inverters based on the Maximum  DC/AC power they produce in Plant 1\n",
      "         \n",
      "       AC/DC_Ratio       SOURCE_KEY\n",
      "14287    10.465522  1IF53ai7Xc0U56Y\n",
      "60923    10.459770  zVJPv84UY57bAof\n",
      "14296    10.458767  adLQvlD726eNBSB\n",
      "34751    10.444444  bvBOhCH3iADSZry\n",
      "7643     10.441176  rGa61gmuvPhdLxV\n",
      "64115    10.426829  1IF53ai7Xc0U56Y\n",
      "34750    10.426540  adLQvlD726eNBSB\n",
      "16666    10.425532  1BY6WEcLGh8j5v7\n",
      "67246    10.425532  ZnxXDlPa8U1GXgE\n",
      "20820    10.424837  McdE0feGgRqW7Ca\n"
     ]
    }
   ],
   "source": [
    "print(\"Top 10 inverters based on the Maximum AC_POWER they produce in Plant 1\")\n",
    "print(\"         \")\n",
    "print(plant1_gen[['AC_POWER','SOURCE_KEY']].nlargest(10,'AC_POWER',keep='first'))\n",
    "print(\"         \")\n",
    "print(\"********************************************************************************\")\n",
    "\n",
    "print(\"Top 10 inverters based on the Maximum DC_POWER they produce in Plant 1\")\n",
    "print(\"         \")\n",
    "print(plant1_gen[['DC_POWER','SOURCE_KEY']].nlargest(10,'DC_POWER',keep='first'))\n",
    "print(\"         \")\n",
    "print(\"********************************************************************************\")\n",
    "\n",
    "print(\"Top 10 inverters based on the Maximum  DC/AC power they produce in Plant 1\")\n",
    "print(\"         \")\n",
    "print(plant1_gen[['AC/DC_Ratio','SOURCE_KEY']].nlargest(10,'AC/DC_Ratio',keep='first'))"
   ]
  },
  {
   "cell_type": "code",
   "execution_count": 27,
   "id": "built-karaoke",
   "metadata": {
    "execution": {
     "iopub.execute_input": "2021-07-31T10:40:42.930100Z",
     "iopub.status.busy": "2021-07-31T10:40:42.922335Z",
     "iopub.status.idle": "2021-07-31T10:40:42.948334Z",
     "shell.execute_reply": "2021-07-31T10:40:42.947564Z",
     "shell.execute_reply.started": "2021-07-31T10:20:48.866409Z"
    },
    "papermill": {
     "duration": 0.069134,
     "end_time": "2021-07-31T10:40:42.948522",
     "exception": false,
     "start_time": "2021-07-31T10:40:42.879388",
     "status": "completed"
    },
    "tags": []
   },
   "outputs": [
    {
     "name": "stdout",
     "output_type": "stream",
     "text": [
      "Top 10 inverters based on the Maximum AC_POWER they produce in Plant 2\n",
      "         \n",
      "          AC_POWER       SOURCE_KEY\n",
      "41423  1385.420000  oZ35aAeoifZaQzV\n",
      "41408  1384.346667  4UPUqMRk7TRMgml\n",
      "41412  1383.457143  IQ2d7wF4YD8zU1Q\n",
      "39248  1378.766667  rrq4fwE8jgrTyWY\n",
      "41415  1377.153333  Mx2yZCDsyf6DPfv\n",
      "39250  1373.653333  xMbIugepa2P7lBB\n",
      "41334  1372.020000  mqwcsP2rE7J0TFp\n",
      "45560  1371.280000  oZZkBaNadn6DNKz\n",
      "45565  1371.013333  xoJJ8DcxJEcupym\n",
      "41416  1370.957143  NgDl19wMapZy17u\n",
      "         \n",
      "********************************************************************************\n",
      "Top 10 inverters based on the Maximum DC_POWER they produce in Plant 2\n",
      "         \n",
      "          DC_POWER       SOURCE_KEY\n",
      "41423  1420.933333  oZ35aAeoifZaQzV\n",
      "41408  1419.840000  4UPUqMRk7TRMgml\n",
      "41412  1418.928571  IQ2d7wF4YD8zU1Q\n",
      "39248  1414.120000  rrq4fwE8jgrTyWY\n",
      "41415  1412.466667  Mx2yZCDsyf6DPfv\n",
      "39250  1408.860000  xMbIugepa2P7lBB\n",
      "41334  1407.220000  mqwcsP2rE7J0TFp\n",
      "45560  1406.433333  oZZkBaNadn6DNKz\n",
      "45565  1406.166667  xoJJ8DcxJEcupym\n",
      "41416  1406.114286  NgDl19wMapZy17u\n",
      "         \n",
      "********************************************************************************\n",
      "Top 10 inverters based on the Maximum  DC/AC power they produce in Plant 2\n",
      "         \n",
      "       AC/DC_Ratio       SOURCE_KEY\n",
      "23403     1.095543  xoJJ8DcxJEcupym\n",
      "34439     1.052632  LYwnQax7tkwH5Cb\n",
      "35585     1.044444  Mx2yZCDsyf6DPfv\n",
      "20190     1.044118  Qf4GUc1pJu5T6c6\n",
      "53442     1.043956  4UPUqMRk7TRMgml\n",
      "55556     1.043478  9kRcWv60rDACzjR\n",
      "25410     1.043011  Qf4GUc1pJu5T6c6\n",
      "35588     1.042857  Qf4GUc1pJu5T6c6\n",
      "23685     1.042857  WcxssY2VbP4hApt\n",
      "46116     1.042763  4UPUqMRk7TRMgml\n"
     ]
    }
   ],
   "source": [
    "print(\"Top 10 inverters based on the Maximum AC_POWER they produce in Plant 2\")\n",
    "print(\"         \")\n",
    "print(plant2_gen[['AC_POWER','SOURCE_KEY']].nlargest(10,'AC_POWER',keep='first'))\n",
    "print(\"         \")\n",
    "print(\"********************************************************************************\")\n",
    "\n",
    "print(\"Top 10 inverters based on the Maximum DC_POWER they produce in Plant 2\")\n",
    "print(\"         \")\n",
    "print(plant2_gen[['DC_POWER','SOURCE_KEY']].nlargest(10,'DC_POWER',keep='first'))\n",
    "print(\"         \")\n",
    "print(\"********************************************************************************\")\n",
    "\n",
    "print(\"Top 10 inverters based on the Maximum  DC/AC power they produce in Plant 2\")\n",
    "print(\"         \")\n",
    "print(plant2_gen[['AC/DC_Ratio','SOURCE_KEY']].nlargest(10,'AC/DC_Ratio',keep='first'))"
   ]
  },
  {
   "cell_type": "markdown",
   "id": "southeast-warrior",
   "metadata": {
    "execution": {
     "iopub.execute_input": "2021-07-31T10:24:10.466513Z",
     "iopub.status.busy": "2021-07-31T10:24:10.466117Z",
     "iopub.status.idle": "2021-07-31T10:24:10.473852Z",
     "shell.execute_reply": "2021-07-31T10:24:10.472610Z",
     "shell.execute_reply.started": "2021-07-31T10:24:10.466480Z"
    },
    "papermill": {
     "duration": 0.035181,
     "end_time": "2021-07-31T10:40:43.019353",
     "exception": false,
     "start_time": "2021-07-31T10:40:42.984172",
     "status": "completed"
    },
    "tags": []
   },
   "source": [
    "###  Is there any missing data?"
   ]
  },
  {
   "cell_type": "code",
   "execution_count": 28,
   "id": "orange-taxation",
   "metadata": {
    "execution": {
     "iopub.execute_input": "2021-07-31T10:40:43.094237Z",
     "iopub.status.busy": "2021-07-31T10:40:43.093441Z",
     "iopub.status.idle": "2021-07-31T10:40:43.147931Z",
     "shell.execute_reply": "2021-07-31T10:40:43.147364Z",
     "shell.execute_reply.started": "2021-07-31T10:25:48.747263Z"
    },
    "papermill": {
     "duration": 0.094085,
     "end_time": "2021-07-31T10:40:43.148076",
     "exception": false,
     "start_time": "2021-07-31T10:40:43.053991",
     "status": "completed"
    },
    "tags": []
   },
   "outputs": [
    {
     "name": "stdout",
     "output_type": "stream",
     "text": [
      "<class 'pandas.core.frame.DataFrame'>\n",
      "RangeIndex: 68778 entries, 0 to 68777\n",
      "Data columns (total 8 columns):\n",
      " #   Column       Non-Null Count  Dtype  \n",
      "---  ------       --------------  -----  \n",
      " 0   DATE_TIME    68778 non-null  object \n",
      " 1   PLANT_ID     68778 non-null  int64  \n",
      " 2   SOURCE_KEY   68778 non-null  object \n",
      " 3   DC_POWER     68778 non-null  float64\n",
      " 4   AC_POWER     68778 non-null  float64\n",
      " 5   DAILY_YIELD  68778 non-null  float64\n",
      " 6   TOTAL_YIELD  68778 non-null  float64\n",
      " 7   AC/DC_Ratio  36827 non-null  float64\n",
      "dtypes: float64(5), int64(1), object(2)\n",
      "memory usage: 4.2+ MB\n",
      "None\n",
      "\n",
      "<class 'pandas.core.frame.DataFrame'>\n",
      "RangeIndex: 67698 entries, 0 to 67697\n",
      "Data columns (total 8 columns):\n",
      " #   Column       Non-Null Count  Dtype  \n",
      "---  ------       --------------  -----  \n",
      " 0   DATE_TIME    67698 non-null  object \n",
      " 1   PLANT_ID     67698 non-null  int64  \n",
      " 2   SOURCE_KEY   67698 non-null  object \n",
      " 3   DC_POWER     67698 non-null  float64\n",
      " 4   AC_POWER     67698 non-null  float64\n",
      " 5   DAILY_YIELD  67698 non-null  float64\n",
      " 6   TOTAL_YIELD  67698 non-null  float64\n",
      " 7   AC/DC_Ratio  32036 non-null  float64\n",
      "dtypes: float64(5), int64(1), object(2)\n",
      "memory usage: 4.1+ MB\n",
      "None\n"
     ]
    }
   ],
   "source": [
    "print(plant1_gen.info())\n",
    "print('')\n",
    "print(plant2_gen.info())"
   ]
  },
  {
   "cell_type": "code",
   "execution_count": null,
   "id": "described-night",
   "metadata": {
    "papermill": {
     "duration": 0.034996,
     "end_time": "2021-07-31T10:40:43.218237",
     "exception": false,
     "start_time": "2021-07-31T10:40:43.183241",
     "status": "completed"
    },
    "tags": []
   },
   "outputs": [],
   "source": []
  }
 ],
 "metadata": {
  "kernelspec": {
   "display_name": "Python 3",
   "language": "python",
   "name": "python3"
  },
  "language_info": {
   "codemirror_mode": {
    "name": "ipython",
    "version": 3
   },
   "file_extension": ".py",
   "mimetype": "text/x-python",
   "name": "python",
   "nbconvert_exporter": "python",
   "pygments_lexer": "ipython3",
   "version": "3.7.10"
  },
  "papermill": {
   "default_parameters": {},
   "duration": 14.975562,
   "end_time": "2021-07-31T10:40:44.063936",
   "environment_variables": {},
   "exception": null,
   "input_path": "__notebook__.ipynb",
   "output_path": "__notebook__.ipynb",
   "parameters": {},
   "start_time": "2021-07-31T10:40:29.088374",
   "version": "2.3.3"
  }
 },
 "nbformat": 4,
 "nbformat_minor": 5
}
